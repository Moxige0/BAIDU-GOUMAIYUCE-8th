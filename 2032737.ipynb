{
 "cells": [
  {
   "cell_type": "code",
   "execution_count": 3,
   "metadata": {
    "collapsed": false
   },
   "outputs": [
    {
     "name": "stdout",
     "output_type": "stream",
     "text": [
      "data19383\r\n"
     ]
    }
   ],
   "source": [
    "# 查看当前挂载的数据集目录, 该目录下的变更重启环境后会自动还原\n",
    "# View dataset directory. This directory will be recovered automatically after resetting environment. \n",
    "!ls /home/aistudio/data"
   ]
  },
  {
   "cell_type": "code",
   "execution_count": 4,
   "metadata": {
    "collapsed": false
   },
   "outputs": [],
   "source": [
    "# 查看工作区文件, 该目录下的变更将会持久保存. 请及时清理不必要的文件, 避免加载过慢.\n",
    "# View personal work directory. All changes under this directory will be kept even after reset. Please clean unnecessary files in time to speed up environment loading.\n",
    "!ls /home/aistudio/work"
   ]
  },
  {
   "cell_type": "code",
   "execution_count": 5,
   "metadata": {
    "collapsed": false
   },
   "outputs": [],
   "source": [
    "import pandas as pd\r\n",
    "import numpy as np\r\n",
    "from tqdm import tqdm\r\n",
    "import datetime\r\n",
    "import time\r\n",
    "raw = pd.read_csv('data/data19383/train.csv')\r\n",
    "raw['goods_id'] = pd.factorize(raw['goods_id'])[0]"
   ]
  },
  {
   "cell_type": "code",
   "execution_count": 6,
   "metadata": {
    "collapsed": false
   },
   "outputs": [
    {
     "data": {
      "text/plain": [
       "0       472943\n",
       "5       171277\n",
       "243      91748\n",
       "73       67783\n",
       "121      60263\n",
       "14       59098\n",
       "40       54200\n",
       "34       52130\n",
       "68       46610\n",
       "55       44218\n",
       "59       34846\n",
       "10       31837\n",
       "168      26849\n",
       "8        23268\n",
       "244      23071\n",
       "315      21786\n",
       "98       21633\n",
       "23       20847\n",
       "234      20554\n",
       "90       19172\n",
       "102      17790\n",
       "35       17636\n",
       "45       16480\n",
       "38       15421\n",
       "108      14653\n",
       "92       14583\n",
       "69       14461\n",
       "43       14280\n",
       "257      13722\n",
       "333      13566\n",
       "         ...  \n",
       "1029         1\n",
       "1030         1\n",
       "1031         1\n",
       "1032         1\n",
       "958          1\n",
       "1034         1\n",
       "1024         1\n",
       "1013         1\n",
       "716          1\n",
       "1012         1\n",
       "940          1\n",
       "939          1\n",
       "936          1\n",
       "946          1\n",
       "933          1\n",
       "932          1\n",
       "931          1\n",
       "763          1\n",
       "999          1\n",
       "1001         1\n",
       "981          1\n",
       "959          1\n",
       "926          1\n",
       "609          1\n",
       "923          1\n",
       "947          1\n",
       "949          1\n",
       "950          1\n",
       "1011         1\n",
       "1036         1\n",
       "Name: goods_id, Length: 1037, dtype: int64"
      ]
     },
     "execution_count": 6,
     "metadata": {},
     "output_type": "execute_result"
    }
   ],
   "source": [
    "# 数据探索\n",
    "raw.columns\n",
    "raw['goods_id'].value_counts()"
   ]
  },
  {
   "cell_type": "code",
   "execution_count": null,
   "metadata": {
    "collapsed": false
   },
   "outputs": [],
   "source": [
    "# 对Goods_id进行标签编码\n",
    "raw['goods_id'] = pd.factorize(raw['goods_id'])[0]"
   ]
  },
  {
   "cell_type": "code",
   "execution_count": 5,
   "metadata": {
    "collapsed": false
   },
   "outputs": [],
   "source": [
    "# 对数据进行预处理\r\n",
    "def prerpocess(raw, train='train'):\r\n",
    "    st = time.time()\r\n",
    "    # 性别：0未知，1男，2女\r\n",
    "    data = pd.DataFrame(raw.groupby('customer_id')['customer_gender'].last().fillna(0))\r\n",
    "    # 添加商品相关信息\r\n",
    "    data[['goods_id_last', 'goods_status_last', 'goods_price_last', 'goods_has_discount_last', 'goods_list_time_last', 'goods_delist_time_last']] = raw.groupby('customer_id')['goods_id', 'goods_status', 'goods_price', 'goods_has_discount', 'goods_list_time', 'goods_delist_time'].last()\r\n",
    "    # 添加订单相关信息\r\n",
    "    data[['order_total_num_last', 'order_amount_last',\r\n",
    "       'order_total_payment_last', 'order_total_discount_last', 'order_pay_time_last',\r\n",
    "       'order_status_last', 'order_count_last', 'is_customer_rate_last',\r\n",
    "       'order_detail_status_last', 'order_detail_goods_num_last', 'order_detail_amount_last',\r\n",
    "       'order_detail_payment_last', 'order_detail_discount_last']] = raw.groupby('customer_id')['order_total_num', 'order_amount',\r\n",
    "       'order_total_payment', 'order_total_discount', 'order_pay_time',\r\n",
    "       'order_status', 'order_count', 'is_customer_rate',\r\n",
    "       'order_detail_status', 'order_detail_goods_num', 'order_detail_amount',\r\n",
    "       'order_detail_payment', 'order_detail_discount'].last()\r\n",
    "    # 添加商品原始价格统计字段\r\n",
    "    data[['good_price_std', 'good_price_mean', 'good_price_min', 'good_price_max']] = raw.groupby('customer_id')['goods_price'].agg({'good_price_std':'std', 'good_price_mean':'mean', 'good_price_min':'min', 'good_price_max':'max'})\r\n",
    "    # 添加订单实付金额统计字段\r\n",
    "    data[['order_detail_payment_std', 'order_detail_payment_mean', 'order_detail_payment_min', 'order_detail_payment_max']] = raw.groupby('customer_id')['order_detail_payment'].agg({'order_detail_payment_std':'std', 'order_detail_payment_mean':'mean', 'order_detail_payment_min':'min', 'order_detail_payment_max':'max'})\r\n",
    "    # 用户购买的订单数量\r\n",
    "    data['count'] = raw.groupby('customer_id')['order_id'].nunique()\r\n",
    "    # 用户购买的商品数量\r\n",
    "    data['goods_count'] = raw.groupby('customer_id')['order_total_num'].sum()\r\n",
    "    # 用户所在省份\r\n",
    "    data['customer_province'] = raw.groupby('customer_id')['customer_province'].last()\r\n",
    "    # 用户所在城市\r\n",
    "    data['customer_city'] = raw.groupby('customer_id')['customer_city'].last()\r\n",
    "    # 用户是否评价 统计结果（平均，综合）\r\n",
    "    data[['is_customer_rate_ratio','is_customer_rate_sum']] = raw.groupby('customer_id')['is_customer_rate'].agg({'is_customer_rate_ratio':np.mean,'is_customer_rate_sum':np.sum})\r\n",
    "    # 用户购买的goods数量，一个订单商品，即order_detail_id（goods_id）\r\n",
    "    data['order_detail_count'] = raw.groupby('customer_id')['customer_id'].count()\r\n",
    "    # 商品折扣统计属性（sum, ave）\r\n",
    "    data[['goods_has_discount_sum','goods_has_discount_ave']] = raw.groupby('customer_id')['goods_has_discount'].agg({'goods_has_discount_sum':np.sum,'goods_has_discount_ave':np.mean})\r\n",
    "    # 订单实付金额 统计属性（sum, ave）\r\n",
    "    data[['order_total_payment_sum','order_total_ave_pay']] = raw.groupby('customer_id')['order_total_payment'].agg({'order_total_payment_sum':np.sum,'order_total_ave_pay':np.mean})\r\n",
    "    # 订单商品数量 统计属性（sum, ave）\r\n",
    "    data[['order_total_num_sum', 'order_total_num_ave']] = raw.groupby('customer_id')['order_total_num'].agg({'order_total_num_sum':np.sum,'order_total_num_ave':np.mean})\r\n",
    "\r\n",
    "    # 时间转换\r\n",
    "    def time2multi(x):\r\n",
    "        t=datetime.datetime.strptime(x, '%Y-%m-%d %H:%M:%S')\r\n",
    "        return pd.Series([t.month,t.day,t.weekday(),t.hour,t.minute,t.second])\r\n",
    "    # 订单付款时间\r\n",
    "    data[['order_pay_time_last_m','order_pay_time_last_d','order_pay_time_last_week','order_pay_time_last_h','order_pay_time_last_min','order_pay_time_last_s']]=data['order_pay_time_last'].apply(time2multi)\r\n",
    "    #data[['order_pay_time_last_m','order_pay_time_last_d','order_pay_time_last_week','order_pay_time_last_h','order_pay_time_last_min','order_pay_time_last_s']] = raw.groupby('customer_id')['order_pay_time_last_m','order_pay_time_last_d','order_pay_time_last_week','order_pay_time_last_h','order_pay_time_last_min','order_pay_time_last_s'].last()\r\n",
    "    # 起始时间是从2013-01-01开始\r\n",
    "    t_str='2013-01-01 00:00:00'\r\n",
    "    t=datetime.datetime.strptime(t_str, '%Y-%m-%d %H:%M:%S')\r\n",
    "    # 商品最新上架时间diff （距离起始时间）\r\n",
    "    data['goods_list_time_diff'] = data['goods_list_time_last'].map(lambda x:(datetime.datetime.strptime(x, '%Y-%m-%d %H:%M:%S')-t).days/364)\r\n",
    "    # 商品最新下架时间diff （距离起始时间）\r\n",
    "    data['goods_delist_time_diff'] = data['goods_delist_time_last'].map(lambda x:(datetime.datetime.strptime(x, '%Y-%m-%d %H:%M:%S')-t).days/364)\r\n",
    "    # 商品展示时间\r\n",
    "    data['goods_diff'] = data['goods_delist_time_diff'] - data['goods_list_time_diff']\r\n",
    "    # 付款时间diff (距离起始时间)\r\n",
    "    data['order_pay_time_last_diff'] = data['order_pay_time_last'].map(lambda x:(datetime.datetime.strptime(x, '%Y-%m-%d %H:%M:%S')-t).days/364)\r\n",
    "    ed = time.time()\r\n",
    "    # 输出preprocess计算时间\r\n",
    "    print(ed-st)\r\n",
    "    \r\n",
    "    return data"
   ]
  },
  {
   "cell_type": "code",
   "execution_count": 6,
   "metadata": {
    "collapsed": false
   },
   "outputs": [
    {
     "name": "stderr",
     "output_type": "stream",
     "text": [
      "/opt/conda/envs/python35-paddle120-env/lib/python3.7/site-packages/ipykernel_launcher.py:19: FutureWarning: using a dict on a Series for aggregation\n",
      "is deprecated and will be removed in a future version\n",
      "/opt/conda/envs/python35-paddle120-env/lib/python3.7/site-packages/ipykernel_launcher.py:21: FutureWarning: using a dict on a Series for aggregation\n",
      "is deprecated and will be removed in a future version\n",
      "/opt/conda/envs/python35-paddle120-env/lib/python3.7/site-packages/ipykernel_launcher.py:31: FutureWarning: using a dict on a Series for aggregation\n",
      "is deprecated and will be removed in a future version\n",
      "/opt/conda/envs/python35-paddle120-env/lib/python3.7/site-packages/ipykernel_launcher.py:35: FutureWarning: using a dict on a Series for aggregation\n",
      "is deprecated and will be removed in a future version\n",
      "/opt/conda/envs/python35-paddle120-env/lib/python3.7/site-packages/ipykernel_launcher.py:37: FutureWarning: using a dict on a Series for aggregation\n",
      "is deprecated and will be removed in a future version\n",
      "/opt/conda/envs/python35-paddle120-env/lib/python3.7/site-packages/ipykernel_launcher.py:39: FutureWarning: using a dict on a Series for aggregation\n",
      "is deprecated and will be removed in a future version\n"
     ]
    }
   ],
   "source": [
    "# 8月之前的数据作为训练集\r\n",
    "train_raw = raw[raw['order_pay_time'] < '2013-07-31 23:59:59']\r\n",
    "train_raw = prerpocess(train_raw)\r\n",
    "# 8月份的数据作为label_raw\r\n",
    "label_raw = set(raw[raw['order_pay_time'] > '2013-07-31 23:59:59']['customer_id'].dropna())\r\n",
    "# 如果该用户在8月份完成了购买 label=1, 否则为0\r\n",
    "train_raw['labels']=train_raw.index.map(lambda x:int(x in label_raw))\r\n",
    "test = prerpocess(raw)"
   ]
  },
  {
   "cell_type": "markdown",
   "metadata": {
    "collapsed": false
   },
   "source": [
    "请点击[此处](https://ai.baidu.com/docs#/AIStudio_Project_Notebook/a38e5576)查看本环境基本用法.  <br>\n",
    "Please click [here ](https://ai.baidu.com/docs#/AIStudio_Project_Notebook/a38e5576) for more detailed instructions. "
   ]
  },
  {
   "cell_type": "code",
   "execution_count": 7,
   "metadata": {
    "collapsed": false
   },
   "outputs": [],
   "source": [
    "# 这些时间，之前已经根据时间提取了特征 原始的格式没法直接参与训练\r\n",
    "train_data = train_raw.drop(['goods_list_time_last', 'goods_delist_time_last', 'order_pay_time_last'], axis=1)\r\n",
    "# 暂时没有处理customer_province, customer_city 可以先去掉\r\n",
    "train_data = train_data.drop(['customer_province', 'customer_city'], axis=1)\r\n",
    "# 分类变量\r\n",
    "catel = ['order_pay_time_last_h', 'order_pay_time_last_week', 'order_pay_time_last_m', 'order_detail_status_last', 'order_status_last', 'goods_status_last', 'goods_id_last', 'customer_gender']"
   ]
  },
  {
   "cell_type": "code",
   "execution_count": 8,
   "metadata": {
    "collapsed": false
   },
   "outputs": [],
   "source": [
    "!pip install lightgbm\r\n",
    "from sklearn.model_selection import train_test_split\r\n",
    "X_train, X_valid, y_train, y_valid = train_test_split(train_data.drop('labels', axis=1), np.array(train_data['labels']), test_size=0.2, random_state=33)\r\n",
    "from sklearn.model_selection import KFold\r\n",
    "# 采用CV=5折交叉验证\r\n",
    "kf = KFold(n_splits=5,shuffle=True)\r\n",
    "\r\n",
    "y_pre = 0\r\n",
    "for train_index , test_index in kf.split(train_data):\r\n",
    "    # 设置每一折的train和test\r\n",
    "    X_train, X_valid, y_train, y_valid = train_data.drop('labels', axis=1).iloc[train_index], train_data.drop('labels', axis=1).iloc[test_index], np.array(train_data['labels'])[train_index], np.array(train_data['labels'])[test_index]\r\n",
    "    import lightgbm as lgb\r\n",
    "    param = {\r\n",
    "    'num_leaves':121,\r\n",
    "    'boosting_type': 'gbdt',\r\n",
    "    'objective':'binary',\r\n",
    "    'max_depth':7,\r\n",
    "    'learning_rate':0.05,\r\n",
    "    'metric':'binary_logloss'}\r\n",
    "    # 使用lgb进行训练\r\n",
    "    trn_data = lgb.Dataset(X_train, label=y_train)\r\n",
    "    val_data = lgb.Dataset(X_valid, label=y_valid)\r\n",
    "    lgbm = lgb.train(param,trn_data,valid_sets=[trn_data,val_data],num_boost_round = 10000, early_stopping_rounds=150,verbose_eval=50, categorical_feature=catel)\r\n",
    "    # 得到test的预测结果\r\n",
    "    test = test[X_train.columns]\r\n",
    "    y_pre += lgbm.predict(test)"
   ]
  },
  {
   "cell_type": "code",
   "execution_count": null,
   "metadata": {
    "collapsed": false
   },
   "outputs": [],
   "source": [
    "# 输出feature_importance\r\n",
    "print(pd.DataFrame({\r\n",
    "        'column': X_train.columns,\r\n",
    "        'importance': lgbm.feature_importance(),\r\n",
    "    }).sort_values(by='importance'))\r\n",
    "# 5次结果求平均\r\n",
    "y_pre = y_pre/5    "
   ]
  },
  {
   "cell_type": "code",
   "execution_count": null,
   "metadata": {
    "collapsed": false
   },
   "outputs": [],
   "source": [
    "# 削弱0附近的影响，因为结果有log，一旦分错，接近0的部分log0影响非常大\r\n",
    "def f(x):\r\n",
    "    if x < 0.1:\r\n",
    "        return 0.1\r\n",
    "    if x > 0.9:\r\n",
    "        return 0.9\r\n",
    "    return x"
   ]
  },
  {
   "cell_type": "code",
   "execution_count": null,
   "metadata": {
    "collapsed": false
   },
   "outputs": [],
   "source": [
    "test['result'] = y_pre\r\n",
    "test['result'] = test['result'].map(f)\r\n",
    "subm = pd.DataFrame(test['result'])\r\n",
    "subm.to_csv('submission.csv')\r\n",
    "# 平均购买情况\r\n",
    "subm.mean()"
   ]
  }
 ],
 "metadata": {
  "kernelspec": {
   "display_name": "PaddlePaddle 1.6.2 (Python 3.5)",
   "language": "python",
   "name": "py35-paddle1.2.0"
  },
  "language_info": {
   "codemirror_mode": {
    "name": "ipython",
    "version": 3
   },
   "file_extension": ".py",
   "mimetype": "text/x-python",
   "name": "python",
   "nbconvert_exporter": "python",
   "pygments_lexer": "ipython3",
   "version": "3.7.4"
  }
 },
 "nbformat": 4,
 "nbformat_minor": 1
}
